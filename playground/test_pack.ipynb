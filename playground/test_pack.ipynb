{
 "cells": [
  {
   "cell_type": "code",
   "execution_count": 1,
   "metadata": {
    "scrolled": false
   },
   "outputs": [],
   "source": [
    "import numpy as np\n",
    "import time\n",
    "\n",
    "import gdsfactory as gf\n",
    "\n",
    "np.random.seed(5)\n"
   ]
  },
  {
   "cell_type": "code",
   "execution_count": 2,
   "metadata": {},
   "outputs": [
    {
     "name": "stderr",
     "output_type": "stream",
     "text": [
      "\u001b[32m2023-12-04 14:54:05.378\u001b[0m | \u001b[33m\u001b[1mWARNING \u001b[0m | \u001b[36mgdsfactory.pdk\u001b[0m:\u001b[36mget_active_pdk\u001b[0m:\u001b[36m722\u001b[0m - \u001b[33m\u001b[1mNo active PDK. Activating generic PDK.\n",
      "\u001b[0m\n",
      "\u001b[32m2023-12-04 14:54:06.680\u001b[0m | \u001b[1mINFO    \u001b[0m | \u001b[36mgdsfactory.technology.layer_views\u001b[0m:\u001b[36m__init__\u001b[0m:\u001b[36m790\u001b[0m - \u001b[1mImporting LayerViews from YAML file: '/scratch/gpfs/qy8197/gdsfactory/gdsfactory/generic_tech/layer_views.yaml'.\u001b[0m\n",
      "\u001b[32m2023-12-04 14:54:06.681\u001b[0m | \u001b[1mINFO    \u001b[0m | \u001b[36mgdsfactory.pdk\u001b[0m:\u001b[36mactivate\u001b[0m:\u001b[36m332\u001b[0m - \u001b[1m'generic' PDK is now active\u001b[0m\n"
     ]
    }
   ],
   "source": [
    "comp3 = gf.Component()\n",
    "comp3.add_polygon([(0,0),(0,3),(2,0)], layer=(1,0))\n",
    "comp3.add_polygon([(0,0),(0,1),(8,1),(8,0)], layer=(2,0))\n",
    "\n",
    "# D_list = [gf.components.text(\"L\"), gf.components.text(\"T\"), comp3,gf.components.text(\"p\"), gf.components.text(\"II\")]\n",
    "# D_list = [gf.components.text(\"G\"), gf.components.text(\"D\"), gf.components.text(\"S\"), gf.components.text(\"F\"), gf.components.text(\"A\"), gf.components.text(\"C\"), gf.components.text(\"T\"), gf.components.text(\"O\"), gf.components.text(\"R\"), gf.components.text(\"Y\")]\n",
    "# D_list = [gf.components.text(\"g\"), gf.components.text(\"d\"), gf.components.text(\"s\"), gf.components.text(\"f\"), gf.components.text(\"a\"), gf.components.text(\"c\"), gf.components.text(\"t\"), gf.components.text(\"o\"), gf.components.text(\"r\"), gf.components.text(\"y\")]\n",
    "D_list = [gf.components.text(\"L\"), gf.components.text(\"i\"), gf.components.text(\"g\"), gf.components.text(\"h\"), gf.components.text(\"t\"), gf.components.text(\"w\"), gf.components.text(\"a\"), gf.components.text(\"v\"), gf.components.text(\"e\")]\n",
    "# D_list = [gf.components.text(\"L\"), gf.components.text(\"i\")]\n",
    "# comp = gf.get_component(D_list[0])\n",
    "# comp._cell.get_polygons()[0]\n",
    "\n",
    "# D_list = [\n",
    "    # gf.components.ellipse(radii=tuple(np.random.rand(2) * n + 2)) for n in range(20)\n",
    "#    gf.components.mmi1x2(),\n",
    "#    gf.components.mmi2x2_with_sbend(),\n",
    "#    gf.components.wire_corner(),\n",
    "#    gf.components.wire_corner(),\n",
    "#    gf.components.wire_corner(),\n",
    "#    gf.components.wire_corner(),\n",
    "#    gf.components.bend_euler180(),\n",
    "#    gf.components.greek_cross(),\n",
    "#    gf.components.greek_cross(),\n",
    "#    gf.components.greek_cross(),\n",
    "#    gf.components.grating_coupler_elliptical_te(),\n",
    "#    gf.components.grating_coupler_elliptical_lumerical(),\n",
    "#    gf.components.coupler_ring_point()\n",
    "#    gf.components.grating_coupler_loss_fiber_array4(),\n",
    "# ]\n",
    "\n",
    "# D_list = [\n",
    "#     gf.components.triangle2(),\n",
    "#     gf.components.triangle(),\n",
    "#     gf.components.triangle4(),\n",
    "#     gf.components.triangle2(),\n",
    "#     gf.components.triangle(),\n",
    "#     gf.components.triangle4(),\n",
    "#     gf.components.triangle2(),\n",
    "#     gf.components.triangle(),\n",
    "#     gf.components.triangle4(),\n",
    "#     gf.components.triangle2(),\n",
    "#     gf.components.triangle(),\n",
    "# ]\n",
    "\n",
    "# D_list = [\n",
    "#     gf.components.rectangle((4,2), layer=\"P\"),\n",
    "#     gf.components.rectangle((3,6), layer=\"N\"),\n",
    "#     gf.components.rectangle((5,5)),\n",
    "# ]"
   ]
  },
  {
   "cell_type": "code",
   "execution_count": 5,
   "metadata": {},
   "outputs": [
    {
     "name": "stdout",
     "output_type": "stream",
     "text": [
      "[41.0146024 20.5073012]\n",
      "0.7088797092437744\n"
     ]
    },
    {
     "data": {
      "text/html": [
       "\n",
       "        <iframe\n",
       "            width=\"1400\"\n",
       "            height=\"600\"\n",
       "            src=\"http://localhost:8000/gds/pack_0_86188ab5.gds?layer_props=/tmp/gdsfactory/layers.lyp\"\n",
       "            frameborder=\"0\"\n",
       "            allowfullscreen\n",
       "            \n",
       "        ></iframe>\n",
       "        "
      ],
      "text/plain": [
       "<IPython.lib.display.IFrame at 0x14a31f2cd3d0>"
      ]
     },
     "execution_count": 5,
     "metadata": {},
     "output_type": "execute_result"
    },
    {
     "name": "stdout",
     "output_type": "stream",
     "text": [
      "INFO:     127.0.0.1:41784 - \"GET /gds/pack_0_86188ab5.gds?layer_props=/tmp/gdsfactory/layers.lyp HTTP/1.1\" 200 OK\n",
      "INFO:     127.0.0.1:41784 - \"GET /custom.css HTTP/1.1\" 304 Not Modified\n",
      "INFO:     127.0.0.1:41792 - \"GET /bootstrap/bootstrap.min.css HTTP/1.1\" 304 Not Modified\n",
      "INFO:     127.0.0.1:41812 - \"GET /viewer.js HTTP/1.1\" 304 Not Modified\n",
      "INFO:     127.0.0.1:41804 - \"GET /bootstrap/bootstrap.bundle.min.js HTTP/1.1\" 304 Not Modified\n"
     ]
    },
    {
     "name": "stderr",
     "output_type": "stream",
     "text": [
      "INFO:     ('127.0.0.1', 41820) - \"WebSocket /ws?file=/tmp/gdsfactory/pack_0_86188ab5.gds&layer_props=/tmp/gdsfactory/layers.lyp\" [accepted]\n",
      "INFO:     connection open\n"
     ]
    }
   ],
   "source": [
    "start = time.time()\n",
    "D_packed_list = gf.pack(\n",
    "    D_list,  # Must be a list or tuple of Components\n",
    "    spacing=1.25,  # Minimum distance between adjacent shapes\n",
    "    aspect_ratio=(2, 1),  # (width, height) ratio of the rectangular bin\n",
    "    max_size=(None, None),  # Limits the size into which the shapes will be packed\n",
    "    density=1.1,  # Values closer to 1 pack tighter but require more computation\n",
    "    precision=1,\n",
    "    sort_by_area=True,  # Pre-sorts the shapes by area\n",
    "    advanced_packer=True,\n",
    ")\n",
    "end = time.time()\n",
    "print(end - start)\n",
    "D = D_packed_list[0]  # Only one bin was created, so we plot that\n",
    "D.plot()"
   ]
  },
  {
   "cell_type": "code",
   "execution_count": 6,
   "metadata": {},
   "outputs": [
    {
     "name": "stdout",
     "output_type": "stream",
     "text": [
      "[4666.24419061 2333.12209531]\n",
      "0.006425142288208008\n"
     ]
    },
    {
     "data": {
      "text/html": [
       "\n",
       "        <iframe\n",
       "            width=\"1400\"\n",
       "            height=\"600\"\n",
       "            src=\"http://localhost:8000/gds/pack_0_d2119cbd.gds?layer_props=/tmp/gdsfactory/layers.lyp\"\n",
       "            frameborder=\"0\"\n",
       "            allowfullscreen\n",
       "            \n",
       "        ></iframe>\n",
       "        "
      ],
      "text/plain": [
       "<IPython.lib.display.IFrame at 0x14a315816690>"
      ]
     },
     "execution_count": 6,
     "metadata": {},
     "output_type": "execute_result"
    },
    {
     "name": "stdout",
     "output_type": "stream",
     "text": [
      "INFO:     127.0.0.1:45910 - \"GET /gds/pack_0_d2119cbd.gds?layer_props=/tmp/gdsfactory/layers.lyp HTTP/1.1\" 200 OK\n"
     ]
    },
    {
     "name": "stderr",
     "output_type": "stream",
     "text": [
      "INFO:     ('127.0.0.1', 45914) - \"WebSocket /ws?file=/tmp/gdsfactory/pack_0_d2119cbd.gds&layer_props=/tmp/gdsfactory/layers.lyp\" [accepted]\n",
      "INFO:     connection open\n"
     ]
    }
   ],
   "source": [
    "start = time.time()\n",
    "D_packed_list = gf.pack(\n",
    "    D_list,  # Must be a list or tuple of Components\n",
    "    spacing=1.25,  # Minimum distance between adjacent shapes\n",
    "    aspect_ratio=(2, 1),  # (width, height) ratio of the rectangular bin\n",
    "    max_size=(None, None),  # Limits the size into which the shapes will be packed\n",
    "    density=1.02,  # Values closer to 1 pack tighter but require more computation\n",
    "    sort_by_area=True,  # Pre-sorts the shapes by area\n",
    "    advanced_packer=False\n",
    ")\n",
    "end = time.time()\n",
    "print(end - start)\n",
    "D = D_packed_list[0]  # Only one bin was created, so we plot that\n",
    "D.plot()"
   ]
  }
 ],
 "metadata": {
  "kernelspec": {
   "display_name": "Python 3 (ipykernel)",
   "language": "python",
   "name": "python3"
  },
  "language_info": {
   "codemirror_mode": {
    "name": "ipython",
    "version": 3
   },
   "file_extension": ".py",
   "mimetype": "text/x-python",
   "name": "python",
   "nbconvert_exporter": "python",
   "pygments_lexer": "ipython3",
   "version": "3.11.5"
  }
 },
 "nbformat": 4,
 "nbformat_minor": 2
}
